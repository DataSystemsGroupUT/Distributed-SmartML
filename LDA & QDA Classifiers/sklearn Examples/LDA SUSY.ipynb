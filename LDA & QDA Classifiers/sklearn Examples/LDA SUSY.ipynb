{
 "cells": [
  {
   "cell_type": "code",
   "execution_count": 1,
   "metadata": {},
   "outputs": [],
   "source": [
    "#import needed package\n",
    "#---------------------------------------------------------\n",
    "import pandas as pd\n",
    "import numpy as np\n",
    "from sklearn import preprocessing\n",
    "from sklearn.metrics import accuracy_score\n",
    "import datetime\n",
    "from sklearn.discriminant_analysis import LinearDiscriminantAnalysis"
   ]
  },
  {
   "cell_type": "code",
   "execution_count": 3,
   "metadata": {},
   "outputs": [],
   "source": [
    "#Load Data from CSV\n",
    "#--------------------------------------------------------\n",
    "t1 = datetime.datetime.now()\n",
    "filepath = 'D:\\Personal\\Thesis\\Report15\\data\\SUSY.csv'\n",
    "rawdata = pd.read_csv( filepath  , sep=',' ,  encoding = 'utf-8')\n",
    "Columns = ['Label' , 'c1' , 'c2' , 'c3' , 'c4' , 'c5' , 'c6' ,\\\n",
    "           'c7' , 'c8' , 'c9' , 'c10' , 'c11' , 'c12' , 'c13' , \\\n",
    "           'c14' , 'c15' , 'c16' , 'c17' , 'c18']\n",
    "rawdata.columns = Columns"
   ]
  },
  {
   "cell_type": "code",
   "execution_count": 4,
   "metadata": {},
   "outputs": [],
   "source": [
    "# split data into Testing and training\n",
    "# ---------------------------------------------------------------------------------------------------------------------\n",
    "np.random.seed(1234)\n",
    "msk = np.random.rand(len(rawdata)) < 0.8\n",
    "training_data = rawdata[msk]\n",
    "Testing_data = rawdata[~msk]\n",
    "\n",
    "X_train = training_data.loc[:, training_data.columns != 'Label']\n",
    "Y_train = training_data.loc[:, training_data.columns == 'Label']\n",
    "\n",
    "X_test = Testing_data.loc[:, Testing_data.columns != 'Label']\n",
    "Y_test = Testing_data.loc[:, Testing_data.columns == 'Label']"
   ]
  },
  {
   "cell_type": "code",
   "execution_count": 5,
   "metadata": {},
   "outputs": [],
   "source": [
    "# Scale Data\n",
    "#----------------------------------------------------------------------------------------------------------------------\n",
    "t2 = datetime.datetime.now()\n",
    "scaler = preprocessing.StandardScaler().fit(X_train)\n",
    "X_train_Scaled = scaler.transform(X_train)\n",
    "X_test_Scaled = scaler.transform(X_test)"
   ]
  },
  {
   "cell_type": "code",
   "execution_count": 6,
   "metadata": {},
   "outputs": [
    {
     "name": "stdout",
     "output_type": "stream",
     "text": [
      "Time:10.907224\n",
      "Accuracy of LDA classifier on test set: 0.76\n"
     ]
    }
   ],
   "source": [
    "#Train and Test LDA\n",
    "#---------------------------------------------------------------------------------------------------------------------\n",
    "t3 = datetime.datetime.now()\n",
    "lda = LinearDiscriminantAnalysis()\n",
    "lda.fit(X_train_Scaled, Y_train.values.ravel())\n",
    "t4 = datetime.datetime.now()\n",
    "print(\"Total Time:\" + str((t4 - t1).total_seconds()))\n",
    "print(\"Load Data Time Time:\" + str((t2 - t1).total_seconds()))\n",
    "print(\"Scale Data Time Time:\" + str((t3 - t2).total_seconds()))\n",
    "print(\"Train and Test Data Time Time:\" + str((t4 - t3).total_seconds()))\n",
    "print('Accuracy of LDA classifier on test set: {:.2f}'\n",
    "     .format(lda.score(X_test_Scaled, Y_test)))"
   ]
  },
  {
   "cell_type": "code",
   "execution_count": null,
   "metadata": {},
   "outputs": [],
   "source": []
  }
 ],
 "metadata": {
  "kernelspec": {
   "display_name": "Python 3",
   "language": "python",
   "name": "python3"
  },
  "language_info": {
   "codemirror_mode": {
    "name": "ipython",
    "version": 3
   },
   "file_extension": ".py",
   "mimetype": "text/x-python",
   "name": "python",
   "nbconvert_exporter": "python",
   "pygments_lexer": "ipython3",
   "version": "3.6.4"
  }
 },
 "nbformat": 4,
 "nbformat_minor": 2
}
