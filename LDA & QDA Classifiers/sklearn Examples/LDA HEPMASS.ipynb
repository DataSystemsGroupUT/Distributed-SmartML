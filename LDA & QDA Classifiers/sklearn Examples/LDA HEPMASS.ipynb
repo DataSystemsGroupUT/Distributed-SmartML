{
 "cells": [
  {
   "cell_type": "code",
   "execution_count": null,
   "metadata": {},
   "outputs": [],
   "source": [
    "#import needed package\n",
    "#---------------------------------------------------------\n",
    "import pandas as pd\n",
    "import numpy as np\n",
    "from sklearn import preprocessing\n",
    "from sklearn.metrics import accuracy_score\n",
    "import datetime\n",
    "from sklearn.discriminant_analysis import LinearDiscriminantAnalysis"
   ]
  },
  {
   "cell_type": "code",
   "execution_count": null,
   "metadata": {},
   "outputs": [],
   "source": [
    "#Load Data from CSV\n",
    "#--------------------------------------------------------\n",
    "t1 = datetime.datetime.now()\n",
    "filepath = 'C:\\Data\\HEPMASS_train.csv'\n",
    "rawdata_train = pd.read_csv( filepath  , sep=',' , low_memory=False ,    encoding = 'utf-8' , error_bad_lines = False)\n",
    "\n",
    "filepath = 'C:\\Data\\HEPMASS_test.csv'\n",
    "rawdata_test = pd.read_csv( filepath  , sep=',' , low_memory=False ,    encoding = 'utf-8' , error_bad_lines = False)\n"
   ]
  },
  {
   "cell_type": "code",
   "execution_count": null,
   "metadata": {},
   "outputs": [],
   "source": [
    "# split data into Testing and training\n",
    "# ---------------------------------------------------------------------------------------------------------------------\n",
    "\n",
    "X_train = rawdata_train.loc[:, rawdata_train.columns != '# label']\n",
    "Y_train = rawdata_train.loc[:, rawdata_train.columns == '# label']\n",
    "\n",
    "X_test = rawdata_test.loc[:, rawdata_test.columns != '# label']\n",
    "Y_test = rawdata_test.loc[:, rawdata_test.columns == '# label']"
   ]
  },
  {
   "cell_type": "code",
   "execution_count": null,
   "metadata": {},
   "outputs": [],
   "source": [
    "# Scale Data \n",
    "#----------------------------------------------------------------------------------------------------------------------\n",
    "t2 = datetime.datetime.now()\n",
    "scaler = preprocessing.StandardScaler().fit(X_train)\n",
    "X_train_Scaled = scaler.transform(X_train)\n",
    "X_test_Scaled = scaler.transform(X_test)"
   ]
  },
  {
   "cell_type": "code",
   "execution_count": null,
   "metadata": {},
   "outputs": [],
   "source": [
    "#Train and Test LDA\n",
    "#---------------------------------------------------------------------------------------------------------------------\n",
    "t3 = datetime.datetime.now()\n",
    "lda = LinearDiscriminantAnalysis()\n",
    "lda.fit(X_train_Scaled, Y_train.values.ravel())\n",
    "t4 = datetime.datetime.now()\n",
    "print(\"Total Time:\" + str((t4 - t1).total_seconds()))\n",
    "print(\"Load Data Time Time:\" + str((t2 - t1).total_seconds()))\n",
    "print(\"Scale Data Time Time:\" + str((t3 - t2).total_seconds()))\n",
    "print(\"Train and Test Data Time Time:\" + str((t4 - t3).total_seconds()))\n",
    "print('Accuracy of LDA classifier on test set: {:.2f}'\n",
    "     .format(lda.score(X_test_Scaled, Y_test)))"
   ]
  }
 ],
 "metadata": {
  "kernelspec": {
   "display_name": "Python 3",
   "language": "python",
   "name": "python3"
  },
  "language_info": {
   "codemirror_mode": {
    "name": "ipython",
    "version": 3
   },
   "file_extension": ".py",
   "mimetype": "text/x-python",
   "name": "python",
   "nbconvert_exporter": "python",
   "pygments_lexer": "ipython3",
   "version": "3.6.4"
  }
 },
 "nbformat": 4,
 "nbformat_minor": 2
}
